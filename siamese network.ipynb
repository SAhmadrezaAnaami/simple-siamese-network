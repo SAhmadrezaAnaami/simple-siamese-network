{
  "cells": [
    {
      "cell_type": "code",
      "execution_count": null,
      "metadata": {
        "id": "Z7ygQKGa2bzY"
      },
      "outputs": [],
      "source": [
        "import tensorflow as tf\n",
        "import random\n",
        "import numpy as np\n",
        "from tensorflow.keras import backend as K"
      ]
    },
    {
      "cell_type": "code",
      "execution_count": null,
      "metadata": {
        "id": "GHqjr3q12mmt"
      },
      "outputs": [],
      "source": [
        "( x_train , y_train ) , ( x_test , y_test ) = tf.keras.datasets.mnist.load_data()"
      ]
    },
    {
      "cell_type": "code",
      "execution_count": null,
      "metadata": {
        "id": "aSX8PeYx3Pi6"
      },
      "outputs": [],
      "source": [
        "def pair_imgs(xs , ys , nn):\n",
        "    img_pairs =[]\n",
        "    lables = []\n",
        "\n",
        "    for i in range(0 , nn):\n",
        "        a = random.randint(0, xs.shape[0] - 1)\n",
        "        b = random.randint(0, xs.shape[0] - 1)\n",
        "        img_pairs.append([xs[a] , xs[b]])\n",
        "        if ys[a] == ys[b] : lables.append(1)\n",
        "        else : lables.append(0)\n",
        "\n",
        "\n",
        "    return np.array(img_pairs ) , np.array(lables , dtype=np.float32)"
      ]
    },
    {
      "cell_type": "code",
      "execution_count": null,
      "metadata": {
        "id": "TPh8hbbv45ri"
      },
      "outputs": [],
      "source": [
        "train_img_pairs , train_lables = pair_imgs(x_train , y_train , 60000)\n",
        "test_img_pairs , test_lables = pair_imgs(x_train , y_train , 10000)"
      ]
    },
    {
      "cell_type": "code",
      "execution_count": null,
      "metadata": {
        "colab": {
          "base_uri": "https://localhost:8080/"
        },
        "id": "ZJ-ppx3A5Czx",
        "outputId": "68d78dd5-769d-476a-8c3c-7933cd6cb9d1"
      },
      "outputs": [
        {
          "data": {
            "text/plain": [
              "((60000, 2, 28, 28), (60000,), (10000, 2, 28, 28), (10000,))"
            ]
          },
          "execution_count": 102,
          "metadata": {},
          "output_type": "execute_result"
        }
      ],
      "source": [
        "train_img_pairs.shape , train_lables.shape , test_img_pairs.shape , test_lables.shape"
      ]
    },
    {
      "cell_type": "code",
      "execution_count": null,
      "metadata": {
        "colab": {
          "base_uri": "https://localhost:8080/"
        },
        "id": "he6w_bt35S19",
        "outputId": "59ed7fe9-def1-4d66-a60f-1c2fd5880e27"
      },
      "outputs": [
        {
          "name": "stdout",
          "output_type": "stream",
          "text": [
            "5939\n"
          ]
        }
      ],
      "source": [
        "c = 0\n",
        "for i in train_lables :\n",
        "    if i == 1 : c += 1\n",
        "print(c)"
      ]
    },
    {
      "cell_type": "markdown",
      "metadata": {
        "id": "cYFtVNqD6jFK"
      },
      "source": [
        "# **Model**"
      ]
    },
    {
      "cell_type": "code",
      "execution_count": null,
      "metadata": {
        "id": "t-y1OEZf6XHo"
      },
      "outputs": [],
      "source": [
        "def Encoder(Shapes = (28,28, 1)):\n",
        "    input = tf.keras.Input(shape=Shapes)\n",
        "    x = tf.keras.layers.BatchNormalization()(input)\n",
        "    x = tf.keras.layers.Conv2D(16 , (3,3) , activation=\"relu\")(x)\n",
        "    x = tf.keras.layers.MaxPooling2D()(x)\n",
        "    x = tf.keras.layers.Conv2D(32 , (3,3) , activation=\"relu\")(x)\n",
        "    x = tf.keras.layers.MaxPooling2D()(x)\n",
        "    x = tf.keras.layers.Conv2D(64 , (3,3) , activation=\"relu\")(x)\n",
        "    x = tf.keras.layers.MaxPooling2D()(x)\n",
        "    x = tf.keras.layers.Flatten()(x)\n",
        "    x = tf.keras.layers.Dense(16 , activation = \"relu\")(x)\n",
        "\n",
        "    return tf.keras.models.Model( inputs = input , outputs = x)"
      ]
    },
    {
      "cell_type": "code",
      "execution_count": null,
      "metadata": {
        "colab": {
          "base_uri": "https://localhost:8080/"
        },
        "id": "LxSpudFM78zv",
        "outputId": "271e109b-7257-454d-9876-c425c17856d4"
      },
      "outputs": [
        {
          "name": "stdout",
          "output_type": "stream",
          "text": [
            "Model: \"model_4\"\n",
            "_________________________________________________________________\n",
            " Layer (type)                Output Shape              Param #   \n",
            "=================================================================\n",
            " input_7 (InputLayer)        [(None, 28, 28, 1)]       0         \n",
            "                                                                 \n",
            " batch_normalization_2 (Batc  (None, 28, 28, 1)        4         \n",
            " hNormalization)                                                 \n",
            "                                                                 \n",
            " conv2d_13 (Conv2D)          (None, 26, 26, 16)        160       \n",
            "                                                                 \n",
            " max_pooling2d_12 (MaxPoolin  (None, 13, 13, 16)       0         \n",
            " g2D)                                                            \n",
            "                                                                 \n",
            " conv2d_14 (Conv2D)          (None, 11, 11, 32)        4640      \n",
            "                                                                 \n",
            " max_pooling2d_13 (MaxPoolin  (None, 5, 5, 32)         0         \n",
            " g2D)                                                            \n",
            "                                                                 \n",
            " conv2d_15 (Conv2D)          (None, 3, 3, 64)          18496     \n",
            "                                                                 \n",
            " max_pooling2d_14 (MaxPoolin  (None, 1, 1, 64)         0         \n",
            " g2D)                                                            \n",
            "                                                                 \n",
            " flatten_3 (Flatten)         (None, 64)                0         \n",
            "                                                                 \n",
            " dense_3 (Dense)             (None, 16)                1040      \n",
            "                                                                 \n",
            "=================================================================\n",
            "Total params: 24,340\n",
            "Trainable params: 24,338\n",
            "Non-trainable params: 2\n",
            "_________________________________________________________________\n"
          ]
        }
      ],
      "source": [
        "encoder = Encoder()\n",
        "encoder.summary()"
      ]
    },
    {
      "cell_type": "code",
      "execution_count": null,
      "metadata": {
        "id": "gsjZCank9v64"
      },
      "outputs": [],
      "source": [
        "def euclidean_distance(vects):\n",
        "    x, y = vects\n",
        "    sum_square = K.sum(K.square(x - y), axis=1, keepdims=True)\n",
        "    return K.sqrt(K.maximum(sum_square, K.epsilon()))\n",
        "\n",
        "\n",
        "def eucl_dist_output_shape(shapes):\n",
        "    shape1, shape2 = shapes\n",
        "    return (shape1[0], 1)"
      ]
    },
    {
      "cell_type": "code",
      "execution_count": null,
      "metadata": {
        "id": "YAFI0PtE8-2J"
      },
      "outputs": [],
      "source": [
        "def simiesNet(encoder , Shapes , euclidean_distance , eucl_dist_output_shape):\n",
        "    input1 = tf.keras.Input(shape=Shapes)\n",
        "    input2 = tf.keras.Input(shape=Shapes)\n",
        "\n",
        "    encoderModel = encoder(Shapes)\n",
        "\n",
        "    x1 = encoderModel(input1)\n",
        "    x2 = encoderModel(input2)\n",
        "\n",
        "    x = tf.keras.layers.Lambda(euclidean_distance, name=\"output_layer\", output_shape=eucl_dist_output_shape)([x1, x2])\n",
        "    x = tf.keras.layers.BatchNormalization()(x)\n",
        "    x = tf.keras.layers.Dense(1 , activation = \"relu\")(x)\n",
        "\n",
        "    return tf.keras.models.Model( inputs = [input1 , input2] , outputs = x)\n"
      ]
    },
    {
      "cell_type": "code",
      "execution_count": null,
      "metadata": {
        "id": "vrhbxyIm-fP5"
      },
      "outputs": [],
      "source": [
        "def contrastive_loss_with_margin(margin):\n",
        "    def contrastive_loss(y_true, y_pred):\n",
        "        square_pred = K.square(y_pred)\n",
        "        margin_square = K.square(K.maximum(margin - y_pred, 0))\n",
        "        return K.mean(y_true * square_pred + (1 - y_true) * margin_square)\n",
        "    return contrastive_loss"
      ]
    },
    {
      "cell_type": "code",
      "execution_count": null,
      "metadata": {
        "colab": {
          "base_uri": "https://localhost:8080/"
        },
        "id": "HgXUhYDP-zUx",
        "outputId": "1dfb9be5-5679-48c6-f9e4-df0c7c22936e"
      },
      "outputs": [
        {
          "name": "stdout",
          "output_type": "stream",
          "text": [
            "Model: \"model_14\"\n",
            "__________________________________________________________________________________________________\n",
            " Layer (type)                   Output Shape         Param #     Connected to                     \n",
            "==================================================================================================\n",
            " input_20 (InputLayer)          [(None, 28, 28, 1)]  0           []                               \n",
            "                                                                                                  \n",
            " input_21 (InputLayer)          [(None, 28, 28, 1)]  0           []                               \n",
            "                                                                                                  \n",
            " model_13 (Functional)          (None, 16)           24340       ['input_20[0][0]',               \n",
            "                                                                  'input_21[0][0]']               \n",
            "                                                                                                  \n",
            " output_layer (Lambda)          (None, 1)            0           ['model_13[0][0]',               \n",
            "                                                                  'model_13[1][0]']               \n",
            "                                                                                                  \n",
            " batch_normalization_12 (BatchN  (None, 1)           4           ['output_layer[0][0]']           \n",
            " ormalization)                                                                                    \n",
            "                                                                                                  \n",
            " dense_13 (Dense)               (None, 1)            2           ['batch_normalization_12[0][0]'] \n",
            "                                                                                                  \n",
            "==================================================================================================\n",
            "Total params: 24,346\n",
            "Trainable params: 24,342\n",
            "Non-trainable params: 4\n",
            "__________________________________________________________________________________________________\n"
          ]
        }
      ],
      "source": [
        "model = simiesNet(Encoder , (28,28, 1) , euclidean_distance , eucl_dist_output_shape)\n",
        "model.summary()"
      ]
    },
    {
      "cell_type": "code",
      "execution_count": null,
      "metadata": {
        "colab": {
          "background_save": true,
          "base_uri": "https://localhost:8080/"
        },
        "id": "79L9cQGS-gLA",
        "outputId": "b3f0987f-f996-4d68-90ba-bd63f2f8b21a"
      },
      "outputs": [
        {
          "name": "stdout",
          "output_type": "stream",
          "text": [
            "Epoch 1/20\n",
            "469/469 [==============================] - 75s 158ms/step - loss: 0.2758 - val_loss: 0.1386\n",
            "Epoch 2/20\n",
            "469/469 [==============================] - 74s 157ms/step - loss: 0.1299 - val_loss: 0.1129\n",
            "Epoch 3/20\n",
            "469/469 [==============================] - 71s 151ms/step - loss: 0.1142 - val_loss: 0.0937\n",
            "Epoch 4/20\n",
            "469/469 [==============================] - 71s 150ms/step - loss: 0.0901 - val_loss: 0.0914\n",
            "Epoch 5/20\n",
            "469/469 [==============================] - 72s 154ms/step - loss: 0.0893 - val_loss: 0.0913\n",
            "Epoch 6/20\n",
            "469/469 [==============================] - 72s 154ms/step - loss: 0.0892 - val_loss: 0.0914\n",
            "Epoch 7/20\n",
            "469/469 [==============================] - 69s 148ms/step - loss: 0.0892 - val_loss: 0.0912\n",
            "Epoch 8/20\n",
            "469/469 [==============================] - 74s 159ms/step - loss: 0.0891 - val_loss: 0.0912\n",
            "Epoch 9/20\n",
            "469/469 [==============================] - 70s 149ms/step - loss: 0.0890 - val_loss: 0.0913\n",
            "Epoch 10/20\n",
            "469/469 [==============================] - 69s 148ms/step - loss: 0.0888 - val_loss: 0.0917\n",
            "Epoch 11/20\n",
            "469/469 [==============================] - 69s 148ms/step - loss: 0.0886 - val_loss: 0.0917\n",
            "Epoch 12/20\n",
            "469/469 [==============================] - 72s 154ms/step - loss: 0.0884 - val_loss: 0.0917\n",
            "Epoch 13/20\n",
            "469/469 [==============================] - 72s 154ms/step - loss: 0.0881 - val_loss: 0.0918\n",
            "Epoch 14/20\n",
            "469/469 [==============================] - 70s 150ms/step - loss: 0.0878 - val_loss: 0.0922\n",
            "Epoch 15/20\n",
            "469/469 [==============================] - 72s 154ms/step - loss: 0.0875 - val_loss: 0.0927\n",
            "Epoch 16/20\n",
            "469/469 [==============================] - 69s 148ms/step - loss: 0.0872 - val_loss: 0.0931\n",
            "Epoch 17/20\n",
            "469/469 [==============================] - 72s 153ms/step - loss: 0.0870 - val_loss: 0.0935\n",
            "Epoch 18/20\n",
            "469/469 [==============================] - 69s 148ms/step - loss: 0.0866 - val_loss: 0.0938\n",
            "Epoch 19/20\n",
            "469/469 [==============================] - 69s 148ms/step - loss: 0.0862 - val_loss: 0.0940\n",
            "Epoch 20/20\n",
            "469/469 [==============================] - 70s 150ms/step - loss: 0.0859 - val_loss: 0.0940\n"
          ]
        }
      ],
      "source": [
        "rms = tf.keras.optimizers.RMSprop()\n",
        "model.compile(loss=contrastive_loss_with_margin(margin=1), optimizer=rms)\n",
        "history = model.fit([train_img_pairs[:,0], train_img_pairs[:,1]], train_lables, epochs=20, batch_size=128, validation_data=([test_img_pairs[:,0], test_img_pairs[:,1]], test_lables))"
      ]
    }
  ],
  "metadata": {
    "colab": {
      "provenance": []
    },
    "kernelspec": {
      "display_name": "Python 3",
      "name": "python3"
    },
    "language_info": {
      "name": "python"
    }
  },
  "nbformat": 4,
  "nbformat_minor": 0
}